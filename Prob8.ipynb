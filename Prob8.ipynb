{
 "cells": [
  {
   "cell_type": "code",
   "execution_count": 1,
   "metadata": {},
   "outputs": [
    {
     "name": "stdout",
     "output_type": "stream",
     "text": [
      "C:\\Users\\josed\\Documents\\Jupyter_Notebooks\\raw.githubusercontent.com\\peterjsadowski\\sklearn_examples\\master\\training_data.csv\n",
      "13616.159962\n",
      "63877.52869566004\n"
     ]
    },
    {
     "data": {
      "image/png": "[encoded data removed]",
      "text/plain": [
       "<Figure size 432x288 with 1 Axes>"
      ]
     },
     "metadata": {
      "needs_background": "light"
     },
     "output_type": "display_data"
    },
    {
     "data": {
      "image/png": "[encoded data removed]",
      "text/plain": [
       "<Figure size 432x288 with 1 Axes>"
      ]
     },
     "metadata": {
      "needs_background": "light"
     },
     "output_type": "display_data"
    },
    {
     "data": {
      "image/png": "[encoded data removed]",
      "text/plain": [
       "<Figure size 432x288 with 1 Axes>"
      ]
     },
     "metadata": {
      "needs_background": "light"
     },
     "output_type": "display_data"
    },
    {
     "data": {
      "image/png": "[encoded data removed]",
      "text/plain": [
       "<Figure size 432x288 with 1 Axes>"
      ]
     },
     "metadata": {
      "needs_background": "light"
     },
     "output_type": "display_data"
    }
   ],
   "source": [
    "# This notebook provides an example of how to use sklearn classifiers.\n",
    "# Loads data from train_data.csv.\n",
    "\n",
    "import numpy as np\n",
    "import matplotlib.pyplot as plt\n",
    "%matplotlib inline\n",
    "import sklearn\n",
    "from sklearn import linear_model\n",
    "from sklearn.model_selection import cross_val_score\n",
    "from sklearn.preprocessing import StandardScaler\n",
    "# For more details see https://scikit-learn.org/stable/modules/linear_model.html\n",
    "\n",
    "# Load data.\n",
    "data_url = 'https://raw.githubusercontent.com/peterjsadowski/sklearn_examples/master/training_data.csv'\n",
    "localfile = np.DataSource(destpath='./').open(data_url).name\n",
    "print(localfile)\n",
    "data = np.loadtxt(localfile, skiprows=1, delimiter=',')\n",
    "Y = data[:, 0] \n",
    "X = data[:, 1:]\n",
    "print(data.mean())\n",
    "print(data.std())\n",
    "# Plot features. \n",
    "feature_names = ['age', 'income', 'exercise', 'diet']\n",
    "for i in range(X.shape[1]):\n",
    "    plt.figure(i)\n",
    "    plt.hist(X[Y==0, i], label='Class 0', alpha=0.3)\n",
    "    plt.hist(X[Y==1, i], label='Class 1', alpha=0.3)\n",
    "    plt.title(feature_names[i])\n",
    "    plt.legend()"
   ]
  },
  {
   "cell_type": "code",
   "execution_count": 2,
   "metadata": {},
   "outputs": [
    {
     "name": "stdout",
     "output_type": "stream",
     "text": [
      "1.1368683772161603e-16\n",
      "0.999999999999997\n"
     ]
    },
    {
     "data": {
      "text/plain": [
       "\"\\nfor i in range(X2.shape[1]):\\n    plt.figure(i)\\n    plt.hist(X2[Y2==-1, i], label='Class 0', alpha=0.3)\\n    plt.hist(X2[Y2==0, i], label='Class 1', alpha=0.3)\\n    plt.title(feature_names[i])\\n    plt.legend()\\n\""
      ]
     },
     "execution_count": 2,
     "metadata": {},
     "output_type": "execute_result"
    }
   ],
   "source": [
    "\n",
    "scaler = StandardScaler()\n",
    "scaler.fit(data)\n",
    "norm_data=scaler.transform(data)\n",
    "StandardScaler(copy=True, with_mean=True, with_std=True)\n",
    "print(norm_data.mean())\n",
    "print(norm_data.std())\n",
    "Y2 = norm_data[:, 0].astype(int)\n",
    "X2 = norm_data[:, 1:]\n",
    "\"\"\"\n",
    "for i in range(X2.shape[1]):\n",
    "    plt.figure(i)\n",
    "    plt.hist(X2[Y2==-1, i], label='Class 0', alpha=0.3)\n",
    "    plt.hist(X2[Y2==0, i], label='Class 1', alpha=0.3)\n",
    "    plt.title(feature_names[i])\n",
    "    plt.legend()\n",
    "\"\"\""
   ]
  },
  {
   "cell_type": "code",
   "execution_count": 3,
   "metadata": {},
   "outputs": [
    {
     "name": "stdout",
     "output_type": "stream",
     "text": [
      "Training accuracy linear for SGD: 0.76\n",
      "Training accuracy linear for Ridge: 0.82\n",
      "Training accuracy for K: 1.0\n",
      "Validation accuracy: 0.73\n",
      "Validation predictions:  [1. 1. 1. 1. 0. 0. 1. 1. 1. 1. 1. 0. 1. 0. 0. 1. 1. 0. 1. 0. 1. 1. 1. 0.\n",
      " 0. 1. 1. 1. 1. 0. 1. 1. 1. 0. 1. 1. 1. 1. 1. 1. 0. 0. 1. 1. 1. 1. 1. 1.\n",
      " 1. 1. 1. 1. 1. 1. 1. 0. 0. 1. 1. 1. 1. 0. 1. 1. 1. 1. 1. 1. 1. 1. 1. 1.\n",
      " 0. 1. 0. 1. 0. 1. 1. 1. 1. 1. 1. 0. 1. 0. 0. 1. 1. 0. 0. 0. 0. 0. 0. 0.\n",
      " 1. 1. 0. 1.]\n",
      "Coefficients:  [[-0.31714052 -0.58193958 -0.86683395 -0.80218507]] [1.22]\n",
      "Validation accuracy for Ridge: 0.81\n",
      "Validation predictions for Ridge:  [1. 0. 1. 1. 0. 1. 0. 1. 1. 1. 1. 0. 1. 0. 0. 1. 1. 0. 1. 0. 1. 0. 1. 0.\n",
      " 0. 1. 1. 1. 0. 0. 1. 1. 1. 1. 1. 1. 1. 0. 0. 1. 0. 0. 0. 1. 1. 1. 0. 1.\n",
      " 1. 1. 1. 1. 1. 1. 1. 0. 0. 0. 1. 0. 0. 0. 1. 0. 1. 1. 1. 1. 1. 0. 1. 1.\n",
      " 0. 1. 0. 1. 0. 0. 1. 1. 0. 1. 1. 0. 1. 0. 0. 1. 0. 0. 0. 0. 0. 0. 0. 0.\n",
      " 1. 0. 1. 1.]\n",
      "Coefficients for Ridge:  [[-4.54000346 -0.10879314 -0.57767725 -0.53714035]] [2.13350899]\n",
      "Validation accuracy for K: 0.81\n",
      "Validation predictions for K:  [1. 0. 1. 1. 0. 1. 0. 1. 1. 1. 0. 0. 1. 0. 0. 1. 1. 0. 1. 0. 1. 1. 0. 0.\n",
      " 1. 1. 1. 1. 0. 0. 0. 0. 1. 0. 0. 1. 1. 0. 0. 0. 0. 0. 0. 1. 1. 0. 0. 0.\n",
      " 1. 0. 1. 0. 1. 0. 1. 1. 0. 0. 1. 0. 0. 0. 1. 1. 0. 1. 1. 1. 0. 0. 0. 1.\n",
      " 0. 1. 0. 1. 0. 0. 0. 1. 0. 1. 0. 0. 1. 0. 0. 1. 0. 0. 0. 1. 0. 0. 0. 0.\n",
      " 1. 1. 0. 1.]\n"
     ]
    }
   ],
   "source": [
    "### Classifier \n",
    "\n",
    "# Preprocess data.\n",
    "X[:, 0] /= 100. \n",
    "X[:, 1] /= 100000.\n",
    "\n",
    "# Divide data into train and validation set.\n",
    "N_train, N_valid = 900, 100\n",
    "X_train, X_valid = X[0:N_train, :], X[N_train:, :]\n",
    "y_train, y_valid = Y[0:N_train], Y[N_train:]\n",
    "\n",
    "# Define a classifier model. (Lots of options to choose from.)\n",
    "clf = linear_model.SGDClassifier(loss='hinge', penalty='l2', alpha=0.1, learning_rate='constant', eta0=0.01, max_iter=10000, tol=1e-6)\n",
    "clf2 = linear_model.RidgeClassifier(alpha=0.1)\n",
    "clf3 = sklearn.neighbors.KNeighborsClassifier(n_neighbors=1, metric='euclidean')\n",
    "\n",
    "# Fit/train/learn.\n",
    "clf.fit(X_train, y_train)\n",
    "clf2.fit(X_train, y_train)\n",
    "clf3.fit(X_train, y_train)\n",
    "\n",
    "# Compute accuracy on training data.\n",
    "accuracy_train = clf.score(X_train, y_train)\n",
    "print(f'Training accuracy linear for SGD: {accuracy_train:0.2}')\n",
    "# Compute accuracy on training data.\n",
    "accuracy_train = clf2.score(X_train, y_train)\n",
    "print(f'Training accuracy linear for Ridge: {accuracy_train:0.2}')\n",
    "accuracy_train = clf3.score(X_train, y_train)\n",
    "print(f'Training accuracy for K: {accuracy_train:0.2}')\n",
    "\n",
    "# Compute accuracy on validation data.\n",
    "y_predicted = clf.predict(X_valid)\n",
    "accuracy_valid = np.sum(y_predicted == y_valid) / len(y_predicted)\n",
    "print(f'Validation accuracy: {accuracy_valid:0.2}')\n",
    "print('Validation predictions: ', y_predicted)\n",
    "\n",
    "print('Coefficients: ', clf.coef_, clf.intercept_)\n",
    "\n",
    "y_predicted = clf2.predict(X_valid)\n",
    "accuracy_valid = np.sum(y_predicted == y_valid) / len(y_predicted)\n",
    "print(f'Validation accuracy for Ridge: {accuracy_valid:0.2}')\n",
    "print('Validation predictions for Ridge: ', y_predicted)\n",
    "\n",
    "print('Coefficients for Ridge: ', clf2.coef_, clf2.intercept_)\n",
    "\n",
    "y_predicted = clf3.predict(X_valid)\n",
    "accuracy_valid = np.sum(y_predicted == y_valid) / len(y_predicted)\n",
    "print(f'Validation accuracy for K: {accuracy_valid:0.2}')\n",
    "print('Validation predictions for K: ', y_predicted)\n"
   ]
  },
  {
   "cell_type": "code",
   "execution_count": 4,
   "metadata": {},
   "outputs": [
    {
     "name": "stdout",
     "output_type": "stream",
     "text": [
      "Training accuracy linear for SGD: 0.83\n",
      "Training accuracy linear for Ridge: 0.82\n",
      "Training accuracy for K: 1.0\n",
      "Validation accuracy: 0.82\n",
      "Validation predictions:  [ 0 -1  0  0 -1  0 -1  0  0  0  0 -1  0 -1 -1  0  0 -1  0 -1  0  0  0 -1\n",
      " -1  0  0  0 -1 -1  0  0  0  0  0  0  0 -1 -1  0 -1 -1 -1  0  0  0 -1  0\n",
      "  0  0  0  0  0  0  0 -1 -1 -1  0 -1  0 -1  0 -1  0  0  0  0  0 -1  0  0\n",
      " -1  0 -1  0 -1 -1  0  0 -1  0  0 -1  0 -1 -1  0 -1 -1 -1 -1 -1 -1 -1 -1\n",
      "  0  0  0  0]\n",
      "Coefficients:  [[-0.69396632 -0.5867753  -0.44116903 -0.52607825]] [0.06]\n",
      "Validation accuracy for Ridge: 0.81\n",
      "Validation predictions for Ridge:  [ 0 -1  0  0 -1  0 -1  0  0  0  0 -1  0 -1 -1  0  0 -1  0 -1  0 -1  0 -1\n",
      " -1  0  0  0 -1 -1  0  0  0  0  0  0  0 -1 -1  0 -1 -1 -1  0  0  0 -1  0\n",
      "  0  0  0  0  0  0  0 -1 -1 -1  0 -1 -1 -1  0 -1  0  0  0  0  0 -1  0  0\n",
      " -1  0 -1  0 -1 -1  0  0 -1  0  0 -1  0 -1 -1  0 -1 -1 -1 -1 -1 -1 -1 -1\n",
      "  0 -1  0  0]\n",
      "Coefficients for Ridge:  [[-0.41307088 -0.14011914 -0.27072729 -0.2565562 ]] [0.0155297]\n",
      "Validation accuracy for K: 0.74\n",
      "Validation predictions for K:  [ 0 -1  0  0 -1 -1 -1  0  0  0  0 -1  0 -1 -1  0  0 -1  0 -1 -1  0  0 -1\n",
      "  0 -1  0  0 -1 -1  0 -1  0 -1 -1  0  0 -1  0 -1  0  0 -1  0  0  0 -1  0\n",
      "  0 -1  0  0 -1  0  0  0 -1 -1  0 -1  0 -1  0 -1  0  0  0  0  0  0 -1  0\n",
      " -1  0 -1  0 -1 -1 -1  0 -1  0 -1 -1  0 -1 -1  0 -1 -1 -1  0 -1 -1 -1 -1\n",
      "  0  0 -1  0]\n"
     ]
    }
   ],
   "source": [
    "### Classifier \n",
    "\n",
    "# Preprocess data.\n",
    "X2[:, 0]# /= 100. \n",
    "X2[:, 1]# /= 100000.\n",
    "\n",
    "# Divide data into train and validation set.\n",
    "N_train, N_valid = 900, 100\n",
    "X_train, X_valid = X2[0:N_train, :], X2[N_train:, :]\n",
    "y_train, y_valid = Y2[0:N_train], Y2[N_train:]\n",
    "\n",
    "# Define a classifier model. (Lots of options to choose from.)\n",
    "clf = linear_model.SGDClassifier(loss='hinge', penalty='l2', alpha=0.1, learning_rate='constant', eta0=0.01, max_iter=10000, tol=1e-6)\n",
    "clf2 = linear_model.RidgeClassifier(alpha=0.1)\n",
    "clf3 = sklearn.neighbors.KNeighborsClassifier(n_neighbors=1, metric='euclidean')\n",
    "\n",
    "# Fit/train/learn.\n",
    "clf.fit(X_train, y_train)\n",
    "clf2.fit(X_train, y_train)\n",
    "clf3.fit(X_train, y_train)\n",
    "\n",
    "# Compute accuracy on training data.\n",
    "accuracy_train = clf.score(X_train, y_train)\n",
    "print(f'Training accuracy linear for SGD: {accuracy_train:0.2}')\n",
    "# Compute accuracy on training data.\n",
    "accuracy_train = clf2.score(X_train, y_train)\n",
    "print(f'Training accuracy linear for Ridge: {accuracy_train:0.2}')\n",
    "accuracy_train = clf3.score(X_train, y_train)\n",
    "print(f'Training accuracy for K: {accuracy_train:0.2}')\n",
    "\n",
    "# Compute accuracy on validation data.\n",
    "y_predicted = clf.predict(X_valid)\n",
    "accuracy_valid = np.sum(y_predicted == y_valid) / len(y_predicted)\n",
    "print(f'Validation accuracy: {accuracy_valid:0.2}')\n",
    "print('Validation predictions: ', y_predicted)\n",
    "\n",
    "print('Coefficients: ', clf.coef_, clf.intercept_)\n",
    "\n",
    "y_predicted = clf2.predict(X_valid)\n",
    "accuracy_valid = np.sum(y_predicted == y_valid) / len(y_predicted)\n",
    "print(f'Validation accuracy for Ridge: {accuracy_valid:0.2}')\n",
    "print('Validation predictions for Ridge: ', y_predicted)\n",
    "\n",
    "print('Coefficients for Ridge: ', clf2.coef_, clf2.intercept_)\n",
    "\n",
    "y_predicted = clf3.predict(X_valid)\n",
    "accuracy_valid = np.sum(y_predicted == y_valid) / len(y_predicted)\n",
    "print(f'Validation accuracy for K: {accuracy_valid:0.2}')\n",
    "print('Validation predictions for K: ', y_predicted)"
   ]
  },
  {
   "cell_type": "code",
   "execution_count": 5,
   "metadata": {},
   "outputs": [
    {
     "name": "stdout",
     "output_type": "stream",
     "text": [
      "Cross-validation accuracies:  [0.74626866 0.785      0.77       0.785      0.73869347]\n",
      "Mean CV accuracy: 0.76\n"
     ]
    }
   ],
   "source": [
    "### Example of Cross-Validation\n",
    "from sklearn.model_selection import cross_val_score\n",
    "clf = linear_model.SGDClassifier(loss='hinge', penalty='l2', alpha=0.1, \n",
    "        learning_rate='constant', eta0=0.01, max_iter=10000, tol=1e-6)\n",
    "cv_scores = cross_val_score(clf, X, Y, cv=5)\n",
    "print('Cross-validation accuracies: ', cv_scores)\n",
    "print('Mean CV accuracy: %0.2f' % np.mean(cv_scores))"
   ]
  },
  {
   "cell_type": "code",
   "execution_count": 6,
   "metadata": {},
   "outputs": [
    {
     "name": "stdout",
     "output_type": "stream",
     "text": [
      "Cross-validation accuracies:  [0.8159204 0.85      0.805     0.84      0.8040201]\n",
      "Mean CV accuracy: 0.82\n"
     ]
    }
   ],
   "source": [
    "### Example of Cross-Validation\n",
    "from sklearn.model_selection import cross_val_score\n",
    "clf = linear_model.SGDClassifier(loss='hinge', penalty='l2', alpha=0.1, \n",
    "        learning_rate='constant', eta0=0.01, max_iter=10000, tol=1e-6)\n",
    "cv_scores = cross_val_score(clf, X2, Y2, cv=5)\n",
    "print('Cross-validation accuracies: ', cv_scores)\n",
    "print('Mean CV accuracy: %0.2f' % np.mean(cv_scores))"
   ]
  },
  {
   "cell_type": "code",
   "execution_count": 7,
   "metadata": {},
   "outputs": [
    {
     "name": "stdout",
     "output_type": "stream",
     "text": [
      "Cross-validation accuracies:  [0.82089552 0.86       0.8        0.845      0.81407035]\n",
      "Mean CV accuracy: 0.83\n"
     ]
    }
   ],
   "source": [
    "### Example of Cross-Validation\n",
    "from sklearn.model_selection import cross_val_score\n",
    "clf = linear_model.SGDClassifier(loss='hinge', penalty='l2', alpha=0.2, \n",
    "        learning_rate='constant', eta0=0.01, max_iter=10000, tol=1e-6)\n",
    "cv_scores = cross_val_score(clf, X2, Y2, cv=5)\n",
    "print('Cross-validation accuracies: ', cv_scores)\n",
    "print('Mean CV accuracy: %0.2f' % np.mean(cv_scores))"
   ]
  },
  {
   "cell_type": "code",
   "execution_count": 8,
   "metadata": {},
   "outputs": [
    {
     "name": "stdout",
     "output_type": "stream",
     "text": [
      "Cross-validation accuracies:  [0.83084577 0.85       0.785      0.86       0.81909548]\n",
      "Mean CV accuracy: 0.83\n"
     ]
    }
   ],
   "source": [
    "### Example of Cross-Validation\n",
    "from sklearn.model_selection import cross_val_score\n",
    "clf = linear_model.SGDClassifier(loss='hinge', penalty='l2', alpha=0.5, \n",
    "        learning_rate='constant', eta0=0.01, max_iter=10000, tol=1e-6)\n",
    "cv_scores = cross_val_score(clf, X2, Y2, cv=5)\n",
    "print('Cross-validation accuracies: ', cv_scores)\n",
    "print('Mean CV accuracy: %0.2f' % np.mean(cv_scores))"
   ]
  },
  {
   "cell_type": "code",
   "execution_count": 40,
   "metadata": {},
   "outputs": [
    {
     "name": "stdout",
     "output_type": "stream",
     "text": [
      "Mean CV accuracy: 0.78\n",
      "Mean CV accuracy: 0.83\n",
      "Mean CV accuracy: 0.83\n",
      "Mean CV accuracy: 0.83\n",
      "Mean CV accuracy: 0.83\n",
      "Mean CV accuracy: 0.83\n",
      "Mean CV accuracy: 0.84\n",
      "Mean CV accuracy: 0.84\n",
      "Mean CV accuracy: 0.83\n",
      "Mean CV accuracy: 0.83\n",
      "Mean CV accuracy: 0.84\n",
      "Mean CV accuracy: 0.83\n",
      "Mean CV accuracy: 0.84\n",
      "Mean CV accuracy: 0.83\n",
      "Mean CV accuracy: 0.83\n",
      "Mean CV accuracy: 0.83\n",
      "Mean CV accuracy: 0.83\n",
      "Mean CV accuracy: 0.83\n",
      "Mean CV accuracy: 0.83\n",
      "Mean CV accuracy: 0.84\n",
      "Mean CV accuracy: 0.83\n",
      "Mean CV accuracy: 0.83\n",
      "Mean CV accuracy: 0.84\n",
      "Mean CV accuracy: 0.83\n",
      "Mean CV accuracy: 0.83\n",
      "Mean CV accuracy: 0.83\n",
      "Mean CV accuracy: 0.83\n",
      "Mean CV accuracy: 0.83\n",
      "Mean CV accuracy: 0.83\n",
      "Mean CV accuracy: 0.83\n",
      "Mean CV accuracy: 0.82\n",
      "Mean CV accuracy: 0.83\n",
      "Mean CV accuracy: 0.83\n",
      "Mean CV accuracy: 0.83\n",
      "Mean CV accuracy: 0.83\n",
      "Mean CV accuracy: 0.83\n",
      "Mean CV accuracy: 0.83\n",
      "Mean CV accuracy: 0.83\n",
      "Mean CV accuracy: 0.83\n",
      "Mean CV accuracy: 0.83\n",
      "Mean CV accuracy: 0.83\n",
      "Mean CV accuracy: 0.83\n",
      "Mean CV accuracy: 0.83\n",
      "Mean CV accuracy: 0.82\n",
      "Mean CV accuracy: 0.84\n",
      "Mean CV accuracy: 0.83\n",
      "Mean CV accuracy: 0.82\n",
      "Mean CV accuracy: 0.83\n",
      "Mean CV accuracy: 0.83\n",
      "Mean CV accuracy: 0.83\n",
      "Mean CV accuracy: 0.82\n",
      "Mean CV accuracy: 0.82\n",
      "Mean CV accuracy: 0.82\n",
      "Mean CV accuracy: 0.83\n",
      "Mean CV accuracy: 0.82\n",
      "Mean CV accuracy: 0.83\n",
      "Mean CV accuracy: 0.84\n",
      "Mean CV accuracy: 0.82\n",
      "Mean CV accuracy: 0.82\n",
      "Mean CV accuracy: 0.83\n",
      "Mean CV accuracy: 0.82\n",
      "Mean CV accuracy: 0.82\n",
      "Mean CV accuracy: 0.83\n",
      "Mean CV accuracy: 0.83\n",
      "Mean CV accuracy: 0.83\n",
      "Mean CV accuracy: 0.83\n",
      "Mean CV accuracy: 0.83\n",
      "Mean CV accuracy: 0.83\n",
      "Mean CV accuracy: 0.82\n",
      "Mean CV accuracy: 0.82\n",
      "Mean CV accuracy: 0.83\n",
      "Mean CV accuracy: 0.83\n",
      "Mean CV accuracy: 0.83\n",
      "Mean CV accuracy: 0.83\n",
      "Mean CV accuracy: 0.82\n",
      "Mean CV accuracy: 0.82\n",
      "Mean CV accuracy: 0.83\n",
      "Mean CV accuracy: 0.83\n",
      "Mean CV accuracy: 0.83\n",
      "Mean CV accuracy: 0.83\n",
      "Mean CV accuracy: 0.83\n",
      "Mean CV accuracy: 0.82\n",
      "Mean CV accuracy: 0.83\n",
      "Mean CV accuracy: 0.83\n",
      "Mean CV accuracy: 0.82\n",
      "Mean CV accuracy: 0.82\n",
      "Mean CV accuracy: 0.83\n",
      "Mean CV accuracy: 0.83\n",
      "Mean CV accuracy: 0.82\n",
      "Mean CV accuracy: 0.83\n",
      "Mean CV accuracy: 0.83\n",
      "Mean CV accuracy: 0.83\n",
      "Mean CV accuracy: 0.83\n",
      "Mean CV accuracy: 0.82\n",
      "Mean CV accuracy: 0.82\n",
      "Mean CV accuracy: 0.82\n",
      "Mean CV accuracy: 0.83\n",
      "Mean CV accuracy: 0.83\n",
      "Mean CV accuracy: 0.83\n",
      "Mean CV accuracy: 0.82\n"
     ]
    }
   ],
   "source": [
    "### Example of Cross-Validation\n",
    "from sklearn.model_selection import cross_val_score\n",
    "pcv= np.linspace(1,10000,100)\n",
    "alpha=np.linspace(1,10000,100)\n",
    "for x in range(100):\n",
    "    alpha[x]=1/100*(x)+1/100\n",
    "    clf = linear_model.SGDClassifier(loss='hinge', penalty='none', alpha=alpha[x], learning_rate='optimal', eta0=0.0001, max_iter=100000, tol=1e-5)\n",
    "    cv_scores = cross_val_score(clf, X2, Y2, cv=5)\n",
    "    #print('Cross-validation accuracies: ', cv_scores)\n",
    "    pcv[x]=np.mean(cv_scores)\n",
    "    print('Mean CV accuracy: %0.2f' % np.mean(cv_scores))\n",
    "    #print( alpha )"
   ]
  },
  {
   "cell_type": "markdown",
   "metadata": {},
   "source": [
    " "
   ]
  },
  {
   "cell_type": "code",
   "execution_count": 43,
   "metadata": {},
   "outputs": [
    {
     "data": {
      "text/plain": [
       "[<matplotlib.lines.Line2D at 0x1a6e66cd0b8>]"
      ]
     },
     "execution_count": 43,
     "metadata": {},
     "output_type": "execute_result"
    },
    {
     "data": {
      "image/png": "[encoded data removed]",
      "text/plain": [
       "<Figure size 432x288 with 1 Axes>"
      ]
     },
     "metadata": {
      "needs_background": "light"
     },
     "output_type": "display_data"
    }
   ],
   "source": [
    "plt.semilogx(alpha,pcv)"
   ]
  },
  {
   "cell_type": "code",
   "execution_count": 46,
   "metadata": {},
   "outputs": [
    {
     "data": {
      "text/plain": [
       "0.9901"
      ]
     },
     "execution_count": 46,
     "metadata": {},
     "output_type": "execute_result"
    }
   ],
   "source": [
    "alpha[99]"
   ]
  },
  {
   "cell_type": "markdown",
   "metadata": {},
   "source": [
    "max(pcv)\n"
   ]
  },
  {
   "cell_type": "code",
   "execution_count": 47,
   "metadata": {},
   "outputs": [
    {
     "data": {
      "text/plain": [
       "0.8409833745843646"
      ]
     },
     "execution_count": 47,
     "metadata": {},
     "output_type": "execute_result"
    }
   ],
   "source": [
    "np.max(pcv)"
   ]
  },
  {
   "cell_type": "code",
   "execution_count": 50,
   "metadata": {},
   "outputs": [
    {
     "data": {
      "text/plain": [
       "0.1901"
      ]
     },
     "execution_count": 50,
     "metadata": {},
     "output_type": "execute_result"
    }
   ],
   "source": [
    "i=np.argmax(pcv)\n",
    "alpha[i]"
   ]
  },
  {
   "cell_type": "code",
   "execution_count": null,
   "metadata": {},
   "outputs": [],
   "source": []
  }
 ],
 "metadata": {
  "kernelspec": {
   "display_name": "Python 3",
   "language": "python",
   "name": "python3"
  },
  "language_info": {
   "codemirror_mode": {
    "name": "ipython",
    "version": 3
   },
   "file_extension": ".py",
   "mimetype": "text/x-python",
   "name": "python",
   "nbconvert_exporter": "python",
   "pygments_lexer": "ipython3",
   "version": "3.7.1"
  }
 },
 "nbformat": 4,
 "nbformat_minor": 2
}
